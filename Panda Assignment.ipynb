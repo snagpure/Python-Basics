{
 "cells": [
  {
   "cell_type": "code",
   "execution_count": 1,
   "metadata": {},
   "outputs": [
    {
     "name": "stdout",
     "output_type": "stream",
     "text": [
      "<PandasArray>\n",
      "[1, 2, 3, 4, 5]\n",
      "Length: 5, dtype: int32\n"
     ]
    }
   ],
   "source": [
    "#Write a Python  program to create  and display a  one dimensional array-- like object containing  an  array of  data using Pandas  module.\n",
    "import pandas as pd\n",
    "print(pd.array([1,2,3,4,5],dtype=int))"
   ]
  },
  {
   "cell_type": "code",
   "execution_count": 5,
   "metadata": {},
   "outputs": [
    {
     "name": "stdout",
     "output_type": "stream",
     "text": [
      "0     2\n",
      "1     4\n",
      "2     6\n",
      "3     8\n",
      "4    10\n",
      "dtype: int64\n",
      "<class 'pandas.core.series.Series'>\n",
      "Convert Pandas Series to Python list\n",
      "[2, 4, 6, 8, 10]\n",
      "<class 'list'>\n"
     ]
    }
   ],
   "source": [
    "#Write a Python  program to convert a Panda module Series  to Python list and  its type.\n",
    "import pandas as pd\n",
    "a = pd.Series([2, 4, 6, 8, 10])\n",
    "print(a)\n",
    "print(type(a))\n",
    "print(\"Convert Pandas Series to Python list\")\n",
    "print(a.tolist())\n",
    "print(type(a.tolist()))"
   ]
  },
  {
   "cell_type": "code",
   "execution_count": 10,
   "metadata": {},
   "outputs": [
    {
     "name": "stdout",
     "output_type": "stream",
     "text": [
      "Addition\n",
      "0     3\n",
      "1     7\n",
      "2    11\n",
      "3    15\n",
      "4    19\n",
      "dtype: int64\n",
      "Subtraction\n",
      "0    1\n",
      "1    1\n",
      "2    1\n",
      "3    1\n",
      "4    1\n",
      "dtype: int64\n",
      "multiplication\n",
      "0     2\n",
      "1    12\n",
      "2    30\n",
      "3    56\n",
      "4    90\n",
      "dtype: int64\n",
      "division\n",
      "0    2.000000\n",
      "1    1.333333\n",
      "2    1.200000\n",
      "3    1.142857\n",
      "4    1.111111\n",
      "dtype: float64\n"
     ]
    }
   ],
   "source": [
    "#Write a Python  program to add,  subtract,  multiple and  divide two Pandas  Series.\n",
    "a1 = pd.Series([2, 4, 6, 8, 10])\n",
    "a2 = pd.Series([1, 3, 5, 7, 9])\n",
    "print(\"Addition\")\n",
    "print(a1+a2)\n",
    "print(\"Subtraction\")\n",
    "print(a1 - a2)\n",
    "print(\"multiplication\")\n",
    "print(a1 * a2)\n",
    "print(\"division\")\n",
    "print(a1/a2)"
   ]
  },
  {
   "cell_type": "code",
   "execution_count": 15,
   "metadata": {
    "scrolled": true
   },
   "outputs": [
    {
     "name": "stdout",
     "output_type": "stream",
     "text": [
      "0    False\n",
      "1    False\n",
      "2    False\n",
      "3    False\n",
      "4    False\n",
      "dtype: bool\n",
      "0    True\n",
      "1    True\n",
      "2    True\n",
      "3    True\n",
      "4    True\n",
      "dtype: bool\n",
      "0    False\n",
      "1    False\n",
      "2    False\n",
      "3    False\n",
      "4    False\n",
      "dtype: bool\n"
     ]
    }
   ],
   "source": [
    "#Write a Python  program to compare the  elements of  the two Pandas  Series.\n",
    "a1 = pd.Series([2, 4, 6, 8, 10])\n",
    "a2 = pd.Series([1, 3, 5, 7, 9])\n",
    "print(a1==a2)\n",
    "print(a1>a2)\n",
    "print(a1<a2)"
   ]
  },
  {
   "cell_type": "code",
   "execution_count": null,
   "metadata": {},
   "outputs": [],
   "source": [
    "#Write a Python  program to display the  following  data column wise."
   ]
  },
  {
   "cell_type": "code",
   "execution_count": 19,
   "metadata": {},
   "outputs": [
    {
     "name": "stdout",
     "output_type": "stream",
     "text": [
      "        name  score  attempts qualify\n",
      "a  Anastasia   12.5         1     yes\n",
      "b       Dima    9.0         3      no\n",
      "c  Katherine   16.5         2     yes\n",
      "d      James    NaN         3      no\n",
      "e      Emily    9.0         2      no\n",
      "f    Michael   20.0         3     yes\n",
      "g    Matthew   14.5         1     yes\n",
      "h      Laura    NaN         1      no\n",
      "i      Kevin    8.0         2      no\n",
      "j      Jonas   19.0         1     yes\n"
     ]
    }
   ],
   "source": [
    "#Write a Python  program to create and display a  Data Frame from a specified  dictionary data  which has  the  index  labels.\n",
    "import numpy as np\n",
    "exam_data  = {'name': ['Anastasia', 'Dima', 'Katherine', 'James', 'Emily', 'Michael', 'Matthew', 'Laura', 'Kevin', 'Jonas'],\n",
    "        'score': [12.5, 9, 16.5, np.nan, 9, 20, 14.5, np.nan, 8, 19],\n",
    "        'attempts': [1, 3, 2, 3, 2, 3, 1, 1, 2, 1],\n",
    "        'qualify': ['yes', 'no', 'yes', 'no', 'no', 'yes', 'yes', 'no', 'no', 'yes']}\n",
    "labels = ['a', 'b', 'c', 'd', 'e', 'f', 'g', 'h', 'i', 'j']\n",
    "df = pd.DataFrame(exam_data , index=labels)\n",
    "print(df)"
   ]
  },
  {
   "cell_type": "code",
   "execution_count": 20,
   "metadata": {},
   "outputs": [
    {
     "name": "stdout",
     "output_type": "stream",
     "text": [
      "        name  score  attempts qualify\n",
      "c  Katherine   16.5         2     yes\n",
      "f    Michael   20.0         3     yes\n",
      "j      Jonas   19.0         1     yes\n"
     ]
    }
   ],
   "source": [
    "#Write a Python  program to select the rows the score is  between 15 and 20(inclusive)\n",
    "print(df[df['score'].between(15,20)])"
   ]
  },
  {
   "cell_type": "code",
   "execution_count": 23,
   "metadata": {},
   "outputs": [
    {
     "name": "stdout",
     "output_type": "stream",
     "text": [
      "   score  attempts qualify\n",
      "b    9.0         3      no\n",
      "c   16.5         2     yes\n",
      "d    NaN         3      no\n",
      "e    9.0         2      no\n",
      "f   20.0         3     yes\n"
     ]
    }
   ],
   "source": [
    "#Write a Python  program to select the specified columns  and rows  from a given Data Frame\n",
    "print(df.iloc[1:6,1:5])"
   ]
  },
  {
   "cell_type": "code",
   "execution_count": 24,
   "metadata": {},
   "outputs": [
    {
     "name": "stdout",
     "output_type": "stream",
     "text": [
      "    name  score  attempts qualify\n",
      "j  Jonas   19.0         1     yes\n"
     ]
    }
   ],
   "source": [
    "#Write a Python  program to select the rows where number of attempts  in the  examination is less  than  2  and score greater than 15\n",
    "print(df[(df['attempts'] < 2) & (df['score'] > 15)])"
   ]
  },
  {
   "cell_type": "code",
   "execution_count": 30,
   "metadata": {},
   "outputs": [
    {
     "name": "stdout",
     "output_type": "stream",
     "text": [
      "        name score attempts qualify\n",
      "a  Anastasia  12.5        1     yes\n",
      "b       Dima     9        3      no\n",
      "c  Katherine  16.5        2     yes\n",
      "d      James   NaN        3      no\n",
      "e      Emily     9        2      no\n",
      "f    Michael    20        3     yes\n",
      "g    Matthew  14.5        1     yes\n",
      "h      Laura   NaN        1      no\n",
      "i      Kevin     8        2      no\n",
      "j      Jonas    19        1     yes\n",
      "k     Shweta  15.5        1     yes\n",
      "*****************************************\n",
      "        name score attempts qualify\n",
      "a  Anastasia  12.5        1     yes\n",
      "b       Dima     9        3      no\n",
      "c  Katherine  16.5        2     yes\n",
      "d      James   NaN        3      no\n",
      "e      Emily     9        2      no\n",
      "f    Michael    20        3     yes\n",
      "g    Matthew  14.5        1     yes\n",
      "h      Laura   NaN        1      no\n",
      "i      Kevin     8        2      no\n",
      "j      Jonas    19        1     yes\n"
     ]
    }
   ],
   "source": [
    "#Write a Python  program to append  a new row 'k' to Data Frame with given values  for each column. Now delete  the ne w row and return the original data frame.\n",
    "df.loc['k'] = ['Shweta',15.5, 1, 'yes']\n",
    "print(df)\n",
    "df= df.drop('k')\n",
    "print('*****************************************')\n",
    "print(df)"
   ]
  },
  {
   "cell_type": "code",
   "execution_count": 36,
   "metadata": {},
   "outputs": [
    {
     "name": "stdout",
     "output_type": "stream",
     "text": [
      "        name score attempts qualify\n",
      "f    Michael    20        3     yes\n",
      "g    Matthew  14.5        1     yes\n",
      "h      Laura   NaN        1      no\n",
      "i      Kevin     8        2      no\n",
      "c  Katherine  16.5        2     yes\n",
      "j      Jonas    19        1     yes\n",
      "d      James   NaN        3      no\n",
      "e      Emily     9        2      no\n",
      "b       Dima     9        3      no\n",
      "a  Anastasia  12.5        1     yes\n",
      "*****************************************\n",
      "        name score attempts qualify\n",
      "i      Kevin     8        2      no\n",
      "b       Dima     9        3      no\n",
      "e      Emily     9        2      no\n",
      "a  Anastasia  12.5        1     yes\n",
      "g    Matthew  14.5        1     yes\n",
      "c  Katherine  16.5        2     yes\n",
      "j      Jonas    19        1     yes\n",
      "f    Michael    20        3     yes\n",
      "d      James   NaN        3      no\n",
      "h      Laura   NaN        1      no\n"
     ]
    }
   ],
   "source": [
    "#Write a Python  program to sort the data frame  first by 'name' in descending  order,  then  by  'score' in ascending  order.\n",
    "print(df.sort_values(by=['name'],ascending=False))\n",
    "print('*****************************************')\n",
    "print(df.sort_values(by=['score'],ascending=True))"
   ]
  },
  {
   "cell_type": "code",
   "execution_count": 39,
   "metadata": {},
   "outputs": [
    {
     "name": "stdout",
     "output_type": "stream",
     "text": [
      "        name score attempts qualify  Last Name\n",
      "a  Anastasia  12.5        1     yes        Kor\n",
      "b       Dima     9        3      no     Headen\n",
      "c  Katherine  16.5        2     yes    Aniston\n",
      "d      James   NaN        3      no       Bond\n",
      "e      Emily     9        2      no       Rose\n",
      "f    Michael    20        3     yes    charlet\n",
      "g    Matthew  14.5        1     yes     Downey\n",
      "h      Laura   NaN        1      no      Smith\n",
      "i      Kevin     8        2      no  Pattinson\n",
      "j      Jonas    19        1     yes     Henson\n"
     ]
    }
   ],
   "source": [
    "#Write a Python  program to insert a new column  in existing  Data Frame.\n",
    "last_name= ['Kor','Headen','Aniston','Bond','Rose','charlet','Downey','Smith','Pattinson','Henson']\n",
    "df['Last Name']= last_name\n",
    "print(df)"
   ]
  },
  {
   "cell_type": "code",
   "execution_count": 41,
   "metadata": {},
   "outputs": [
    {
     "name": "stdout",
     "output_type": "stream",
     "text": [
      "a    Anastasia\n",
      "b         Dima\n",
      "c    Katherine\n",
      "d       Suresh\n",
      "e        Emily\n",
      "f      Michael\n",
      "g      Matthew\n",
      "h        Laura\n",
      "i        Kevin\n",
      "j        Jonas\n",
      "Name: name, dtype: object\n"
     ]
    }
   ],
   "source": [
    "#Write a Python  program to change  the  name  'James' to 'Suresh' in name  column  of the  data frame\n",
    "df= df['name'].replace('James','Suresh')\n",
    "print(df)"
   ]
  },
  {
   "cell_type": "code",
   "execution_count": null,
   "metadata": {},
   "outputs": [],
   "source": []
  }
 ],
 "metadata": {
  "kernelspec": {
   "display_name": "Python 3",
   "language": "python",
   "name": "python3"
  },
  "language_info": {
   "codemirror_mode": {
    "name": "ipython",
    "version": 3
   },
   "file_extension": ".py",
   "mimetype": "text/x-python",
   "name": "python",
   "nbconvert_exporter": "python",
   "pygments_lexer": "ipython3",
   "version": "3.8.5"
  }
 },
 "nbformat": 4,
 "nbformat_minor": 4
}
